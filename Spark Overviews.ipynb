{
  "nbformat": 4,
  "nbformat_minor": 0,
  "metadata": {
    "colab": {
      "provenance": []
    },
    "kernelspec": {
      "name": "python3",
      "display_name": "Python 3"
    },
    "language_info": {
      "name": "python"
    }
  },
  "cells": [
    {
      "cell_type": "code",
      "execution_count": 1,
      "metadata": {
        "colab": {
          "base_uri": "https://localhost:8080/"
        },
        "id": "r-obR3c7Sxx4",
        "outputId": "cbda4d0e-a7da-4ef9-cd45-b8e46b22f4dc"
      },
      "outputs": [
        {
          "output_type": "stream",
          "name": "stdout",
          "text": [
            "Collecting pyspark\n",
            "  Downloading pyspark-3.5.0.tar.gz (316.9 MB)\n",
            "\u001b[2K     \u001b[90m━━━━━━━━━━━━━━━━━━━━━━━━━━━━━━━━━━━━━━━\u001b[0m \u001b[32m316.9/316.9 MB\u001b[0m \u001b[31m2.3 MB/s\u001b[0m eta \u001b[36m0:00:00\u001b[0m\n",
            "\u001b[?25h  Preparing metadata (setup.py) ... \u001b[?25l\u001b[?25hdone\n",
            "Requirement already satisfied: py4j==0.10.9.7 in /usr/local/lib/python3.10/dist-packages (from pyspark) (0.10.9.7)\n",
            "Building wheels for collected packages: pyspark\n",
            "  Building wheel for pyspark (setup.py) ... \u001b[?25l\u001b[?25hdone\n",
            "  Created wheel for pyspark: filename=pyspark-3.5.0-py2.py3-none-any.whl size=317425344 sha256=af1d2579e846a1c38976fd54594f8eba169458b94c2596b163795a695699d641\n",
            "  Stored in directory: /root/.cache/pip/wheels/41/4e/10/c2cf2467f71c678cfc8a6b9ac9241e5e44a01940da8fbb17fc\n",
            "Successfully built pyspark\n",
            "Installing collected packages: pyspark\n",
            "Successfully installed pyspark-3.5.0\n"
          ]
        }
      ],
      "source": [
        "pip install pyspark"
      ]
    },
    {
      "cell_type": "code",
      "source": [
        "from pyspark import SparkContext\n",
        "\n",
        "\n",
        "sc = SparkContext(\"local\", \"RDDExample\")\n",
        "word = sc.parallelize([('Apache', 5), ('Apache', 4), ('Spark', 3), ('Hadoop', 2)])\n",
        "words_group = word.groupByKey()\n",
        "print(word.collect())\n",
        "print([(j[0], [i for i in j[1]]) for j in words_group.collect()])\n",
        "\n"
      ],
      "metadata": {
        "colab": {
          "base_uri": "https://localhost:8080/"
        },
        "id": "iP8bhESGS4hK",
        "outputId": "27c6034e-5881-4939-d982-bf708dc8807d"
      },
      "execution_count": 2,
      "outputs": [
        {
          "output_type": "stream",
          "name": "stdout",
          "text": [
            "[('Apache', 5), ('Apache', 4), ('Spark', 3), ('Hadoop', 2)]\n",
            "[('Apache', [5, 4]), ('Spark', [3]), ('Hadoop', [2])]\n"
          ]
        }
      ]
    },
    {
      "cell_type": "code",
      "source": [
        "sc.stop()"
      ],
      "metadata": {
        "id": "_mDgCK13V3Hs"
      },
      "execution_count": 3,
      "outputs": []
    },
    {
      "cell_type": "code",
      "source": [
        "pip install pyspark\n",
        "from pyspark import SparkContext\n",
        "\n",
        "\n",
        "sc = SparkContext(\"local\", \"RDDExample\")\n",
        "word = sc.parallelize([('Apache', 5), ('Apache', 4), ('Spark', 3), ('Hadoop', 2)], 3)\n",
        "words_reduce = word.reduceByKey(lambda accum, n: accum + n)\n",
        "words_reduce.collect()"
      ],
      "metadata": {
        "colab": {
          "base_uri": "https://localhost:8080/"
        },
        "id": "rT9j-WP-V600",
        "outputId": "a9259dfa-34ff-47cd-cf81-817c77998cc4"
      },
      "execution_count": 4,
      "outputs": [
        {
          "output_type": "execute_result",
          "data": {
            "text/plain": [
              "[('Apache', 9), ('Spark', 3), ('Hadoop', 2)]"
            ]
          },
          "metadata": {},
          "execution_count": 4
        }
      ]
    },
    {
      "cell_type": "code",
      "source": [
        "pip install pyspark\n",
        "from pyspark import SparkContext\n",
        "\n",
        "\n",
        "sc = SparkContext(\"local\", \"RDDExample\")\n",
        "word = sc.parallelize([('Apache', 5), ('Hadoop', 4), ('Hadoop', 3), ('Flume', 2)])\n",
        "words_sort = word.sortByKey()\n",
        "words_sort.collect()"
      ],
      "metadata": {
        "colab": {
          "base_uri": "https://localhost:8080/"
        },
        "id": "FbVt6ZPeXmLc",
        "outputId": "d714dc25-707a-4da0-9b5b-08738d2887b8"
      },
      "execution_count": 6,
      "outputs": [
        {
          "output_type": "execute_result",
          "data": {
            "text/plain": [
              "[('Apache', 5), ('Flume', 2), ('Hadoop', 4), ('Hadoop', 3)]"
            ]
          },
          "metadata": {},
          "execution_count": 6
        }
      ]
    },
    {
      "cell_type": "code",
      "source": [
        "sc.stop()"
      ],
      "metadata": {
        "id": "KGUMCrNoXgZr"
      },
      "execution_count": 7,
      "outputs": []
    },
    {
      "cell_type": "code",
      "source": [
        "pip install pyspark\n",
        "from pyspark import SparkContext, SparkConf\n",
        "\n",
        "\n",
        "conf = SparkConf().setAppName(\"WordCountApp\")\n",
        "sc = SparkContext(conf=conf)\n",
        "\n",
        "\n",
        "text_file = sc.textFile(\"/content/sample_text.txt\")\n",
        "\n",
        "\n",
        "words = text_file.flatMap(lambda line: line.split(\" \"))\n",
        "\n",
        "\n",
        "filtered_words = words.filter(lambda word: word.isalpha() and len(word) > 2)\n",
        "\n",
        "\n",
        "word_count_pairs = filtered_words.map(lambda word: (word.lower(), 1))\n",
        "\n",
        "\n",
        "word_counts = word_count_pairs.reduceByKey(lambda a, b: a + b)\n",
        "\n",
        "\n",
        "sorted_word_counts = word_counts.sortBy(lambda x: x[1], ascending=False)\n",
        "\n",
        "top_10_words = sorted_word_counts.take(10)\n",
        "\n",
        "\n",
        "for word, count in top_10_words:\n",
        "    print(f\"{word}: {count}\")\n",
        "\n",
        "\n",
        "sc.stop()"
      ],
      "metadata": {
        "colab": {
          "base_uri": "https://localhost:8080/"
        },
        "id": "q-nbHt1RYaiE",
        "outputId": "fe587238-4423-4867-dd47-4830bbb9d61f"
      },
      "execution_count": 8,
      "outputs": [
        {
          "output_type": "stream",
          "name": "stdout",
          "text": [
            "everyone: 3\n",
            "the: 2\n",
            "this: 1\n",
            "demo: 1\n",
            "check: 1\n",
            "count: 1\n",
            "just: 1\n",
            "program: 1\n",
            "word: 1\n",
            "sample: 1\n"
          ]
        }
      ]
    },
    {
      "cell_type": "code",
      "source": [
        "sc.stop()"
      ],
      "metadata": {
        "id": "MZWVJSZPbNjW"
      },
      "execution_count": 9,
      "outputs": []
    },
    {
      "cell_type": "code",
      "source": [
        "from pyspark import SparkContext, SparkConf\n",
        "\n",
        "conf = SparkConf().setAppName(\"EvenNumberCount\")\n",
        "sc = SparkContext(conf=conf)\n",
        "\n",
        "\n",
        "rdd = sc.parallelize(range(1, 11))\n",
        "\n",
        "\n",
        "even_numbers = rdd.filter(lambda x: x % 2 == 0)\n",
        "\n",
        "even_count = even_numbers.count()\n",
        "\n",
        "\n",
        "print(f\"Number of even numbers: {even_count}\")\n",
        "\n",
        "\n",
        "sc.stop()\n"
      ],
      "metadata": {
        "colab": {
          "base_uri": "https://localhost:8080/"
        },
        "id": "g-Zrh5QYdZ_r",
        "outputId": "4621b0da-0368-4131-e40b-2b3946b4ed69"
      },
      "execution_count": 10,
      "outputs": [
        {
          "output_type": "stream",
          "name": "stdout",
          "text": [
            "Number of even numbers: 5\n"
          ]
        }
      ]
    },
    {
      "cell_type": "code",
      "source": [
        "from pyspark import SparkContext\n",
        "\n",
        "\n",
        "sc = SparkContext(\"local\", \"RDDSumExample\")\n",
        "data = [1, 2, 3, 4, 5]\n",
        "rdd = sc.parallelize(data)\n",
        "def add(x, y):\n",
        "    return x + y\n",
        "total_sum = rdd.reduce(add)\n",
        "print(\"Sum of all elements:\", total_sum)\n",
        "sc.stop()"
      ],
      "metadata": {
        "id": "8_zuMbzUfMj8"
      },
      "execution_count": null,
      "outputs": []
    },
    {
      "cell_type": "code",
      "source": [
        "sc.stop()"
      ],
      "metadata": {
        "id": "ozcHeY7weioA"
      },
      "execution_count": null,
      "outputs": []
    },
    {
      "cell_type": "code",
      "source": [
        "from pyspark.sql import SparkSession\n",
        "\n",
        "\n",
        "spark = SparkSession.builder.appName(\"DataFrameFilter\").getOrCreate()\n",
        "\n",
        "\n",
        "data = [\n",
        "    {\"name\": \"Jacob\", \"age\": 25},\n",
        "    {\"name\": \"kenny\", \"age\": 30},\n",
        "    {\"name\": \"Felix\", \"age\": 22},\n",
        "    {\"name\": \"david\", \"age\": 35},\n",
        "    {\"name\": \"Eve\", \"age\": 28},\n",
        "]\n",
        "\n",
        "\n",
        "df = spark.createDataFrame(data)\n",
        "\n",
        "selected_df = df.select(\"name\", \"age\")\n",
        "\n",
        "\n",
        "threshold_age = 25\n",
        "\n",
        "\n",
        "filtered_df = selected_df.filter(selected_df[\"age\"] > threshold_age)\n",
        "\n",
        "\n",
        "count = filtered_df.count()\n",
        "\n",
        "\n",
        "print(f\"Number of rows where age > {threshold_age}: {count}\")\n",
        "\n",
        "\n",
        "spark.stop()"
      ],
      "metadata": {
        "colab": {
          "base_uri": "https://localhost:8080/"
        },
        "id": "Z88TJNy2fSQ5",
        "outputId": "91bd67c3-1967-42f7-8b77-451546b06564"
      },
      "execution_count": 11,
      "outputs": [
        {
          "output_type": "stream",
          "name": "stdout",
          "text": [
            "Number of rows where age > 25: 3\n"
          ]
        }
      ]
    },
    {
      "cell_type": "code",
      "source": [
        "spark.stop()"
      ],
      "metadata": {
        "id": "Kk59OysMhPET"
      },
      "execution_count": 12,
      "outputs": []
    },
    {
      "cell_type": "code",
      "source": [
        "from pyspark.sql import SparkSession\n",
        "\n",
        "\n",
        "spark = SparkSession.builder.appName(\"SalesAnalysis\").getOrCreate()\n",
        "\n",
        "\n",
        "sales_df = spark.read.csv(\"sales_data_sample.csv\", header=True, inferSchema=True)\n",
        "\n",
        "\n",
        "sales_df.show(10)\n",
        "\n",
        "\n",
        "sales_by_category = sales_df.groupBy(\"PRODUCTLINE\") \\\n",
        "    .agg({\"Sales\": \"sum\"}) \\\n",
        "    .withColumnRenamed(\"sum(Sales)\", \"TotalSalesAmount\")\n",
        "\n",
        "\n",
        "sales_by_category.show()\n",
        "\n",
        "\n",
        "spark.stop()"
      ],
      "metadata": {
        "colab": {
          "base_uri": "https://localhost:8080/"
        },
        "id": "cBlY3wm0hS1W",
        "outputId": "4607a948-0694-4576-90b2-4aad690d1297"
      },
      "execution_count": 13,
      "outputs": [
        {
          "output_type": "stream",
          "name": "stdout",
          "text": [
            "+-----------+---------------+---------+---------------+-------+---------------+-------+------+--------+-------+-----------+----+-----------+--------------------+----------------+--------------------+------------+-------------+-----+----------+-------+---------+---------------+----------------+--------+\n",
            "|ORDERNUMBER|QUANTITYORDERED|PRICEEACH|ORDERLINENUMBER|  SALES|      ORDERDATE| STATUS|QTR_ID|MONTH_ID|YEAR_ID|PRODUCTLINE|MSRP|PRODUCTCODE|        CUSTOMERNAME|           PHONE|        ADDRESSLINE1|ADDRESSLINE2|         CITY|STATE|POSTALCODE|COUNTRY|TERRITORY|CONTACTLASTNAME|CONTACTFIRSTNAME|DEALSIZE|\n",
            "+-----------+---------------+---------+---------------+-------+---------------+-------+------+--------+-------+-----------+----+-----------+--------------------+----------------+--------------------+------------+-------------+-----+----------+-------+---------+---------------+----------------+--------+\n",
            "|      10107|             30|     95.7|              2| 2871.0| 2/24/2003 0:00|Shipped|     1|       2|   2003|Motorcycles|  95|   S10_1678|   Land of Toys Inc.|      2125557818|897 Long Airport ...|        NULL|          NYC|   NY|     10022|    USA|       NA|             Yu|            Kwai|   Small|\n",
            "|      10121|             34|    81.35|              5| 2765.9|  5/7/2003 0:00|Shipped|     2|       5|   2003|Motorcycles|  95|   S10_1678|  Reims Collectables|      26.47.1555|  59 rue de l'Abbaye|        NULL|        Reims| NULL|     51100| France|     EMEA|        Henriot|            Paul|   Small|\n",
            "|      10134|             41|    94.74|              2|3884.34|  7/1/2003 0:00|Shipped|     3|       7|   2003|Motorcycles|  95|   S10_1678|     Lyon Souveniers|+33 1 46 62 7555|27 rue du Colonel...|        NULL|        Paris| NULL|     75508| France|     EMEA|       Da Cunha|          Daniel|  Medium|\n",
            "|      10145|             45|    83.26|              6| 3746.7| 8/25/2003 0:00|Shipped|     3|       8|   2003|Motorcycles|  95|   S10_1678|   Toys4GrownUps.com|      6265557265|  78934 Hillside Dr.|        NULL|     Pasadena|   CA|     90003|    USA|       NA|          Young|           Julie|  Medium|\n",
            "|      10159|             49|    100.0|             14|5205.27|10/10/2003 0:00|Shipped|     4|      10|   2003|Motorcycles|  95|   S10_1678|Corporate Gift Id...|      6505551386|     7734 Strong St.|        NULL|San Francisco|   CA|      NULL|    USA|       NA|          Brown|           Julie|  Medium|\n",
            "|      10168|             36|    96.66|              1|3479.76|10/28/2003 0:00|Shipped|     4|      10|   2003|Motorcycles|  95|   S10_1678|Technics Stores Inc.|      6505556809|   9408 Furth Circle|        NULL|   Burlingame|   CA|     94217|    USA|       NA|         Hirano|            Juri|  Medium|\n",
            "|      10180|             29|    86.13|              9|2497.77|11/11/2003 0:00|Shipped|     4|      11|   2003|Motorcycles|  95|   S10_1678|Daedalus Designs ...|      20.16.1555|184, chausse de T...|        NULL|        Lille| NULL|     59000| France|     EMEA|          Rance|         Martine|   Small|\n",
            "|      10188|             48|    100.0|              1|5512.32|11/18/2003 0:00|Shipped|     4|      11|   2003|Motorcycles|  95|   S10_1678|        Herkku Gifts|   +47 2267 3215|Drammen 121, PR 7...|        NULL|       Bergen| NULL|    N 5804| Norway|     EMEA|         Oeztan|          Veysel|  Medium|\n",
            "|      10201|             22|    98.57|              2|2168.54| 12/1/2003 0:00|Shipped|     4|      12|   2003|Motorcycles|  95|   S10_1678|     Mini Wheels Co.|      6505555787|5557 North Pendal...|        NULL|San Francisco|   CA|      NULL|    USA|       NA|         Murphy|           Julie|   Small|\n",
            "|      10211|             41|    100.0|             14|4708.44| 1/15/2004 0:00|Shipped|     1|       1|   2004|Motorcycles|  95|   S10_1678|    Auto Canal Petit|  (1) 47.55.6555|   25, rue Lauriston|        NULL|        Paris| NULL|     75016| France|     EMEA|        Perrier|       Dominique|  Medium|\n",
            "+-----------+---------------+---------+---------------+-------+---------------+-------+------+--------+-------+-----------+----+-----------+--------------------+----------------+--------------------+------------+-------------+-----+----------+-------+---------+---------------+----------------+--------+\n",
            "only showing top 10 rows\n",
            "\n",
            "+----------------+------------------+\n",
            "|     PRODUCTLINE|  TotalSalesAmount|\n",
            "+----------------+------------------+\n",
            "|     Motorcycles|1166388.3400000003|\n",
            "|    Vintage Cars|1903150.8399999992|\n",
            "|           Ships|         714437.13|\n",
            "|Trucks and Buses|1127789.8399999996|\n",
            "|    Classic Cars| 3919615.659999997|\n",
            "|          Trains|226243.46999999997|\n",
            "|          Planes| 975003.5700000001|\n",
            "+----------------+------------------+\n",
            "\n"
          ]
        }
      ]
    }
  ]
}